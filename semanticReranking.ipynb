{
 "cells": [
  {
   "cell_type": "code",
   "execution_count": 25,
   "metadata": {},
   "outputs": [],
   "source": [
    "import json\n",
    "from sentence_transformers import SentenceTransformer, CrossEncoder, util\n",
    "import gzip\n",
    "import os\n",
    "from os import linesep\n",
    "from PyPDF2 import PdfReader"
   ]
  },
  {
   "cell_type": "code",
   "execution_count": 2,
   "metadata": {},
   "outputs": [],
   "source": [
    "query = \"What is Atma?\""
   ]
  },
  {
   "cell_type": "code",
   "execution_count": 3,
   "metadata": {},
   "outputs": [],
   "source": [
    "#  To encode all passages\n",
    "bi_encoder = SentenceTransformer('multi-qa-MiniLM-L6-cos-v1')\n",
    "top_k=32 # no of passages to be retrieved from bi-encoder"
   ]
  },
  {
   "cell_type": "code",
   "execution_count": 4,
   "metadata": {},
   "outputs": [],
   "source": [
    "# To re-rank the results list to improve the quality\n",
    "cross_encoder = CrossEncoder('cross-encoder/ms-marco-MiniLM-L-6-v2')\n"
   ]
  },
  {
   "cell_type": "code",
   "execution_count": 5,
   "metadata": {},
   "outputs": [],
   "source": [
    "FILE_PATH = 'C:/Users/v-ankbhagat/Learnings/SemanticRanker/DOCS/Gita.pdf'"
   ]
  },
  {
   "cell_type": "code",
   "execution_count": 6,
   "metadata": {},
   "outputs": [],
   "source": [
    "def get_pdf_data(file_path):\n",
    "    reader = PdfReader(file_path)\n",
    "    full_doc_text = \"\"\n",
    "    pages = reader.pages\n",
    "    num_pages = len(pages)\n",
    "\n",
    "    try:\n",
    "        for page in range(num_pages):\n",
    "            current_page = reader.pages[page]\n",
    "            text = current_page.extract_text()\n",
    "            full_doc_text += text\n",
    "    except:\n",
    "        print(\"Error reading the file\")\n",
    "    finally:\n",
    "        return full_doc_text"
   ]
  },
  {
   "cell_type": "code",
   "execution_count": 7,
   "metadata": {},
   "outputs": [],
   "source": [
    "def get_chunks(fulltext:str, chunk_length=500) -> list:\n",
    "    text = fulltext\n",
    "\n",
    "    chunks = []\n",
    "\n",
    "    while len(text) > chunk_length:\n",
    "        last_period_index = text[:chunk_length].rfind('.')\n",
    "        if last_period_index == -1:\n",
    "            last_period_index = chunk_length\n",
    "        chunks.append(text[:last_period_index])\n",
    "        text = text[last_period_index+1:]\n",
    "    chunks.append(text)\n",
    "\n",
    "    return chunks"
   ]
  },
  {
   "cell_type": "code",
   "execution_count": 29,
   "metadata": {},
   "outputs": [
    {
     "name": "stdout",
     "output_type": "stream",
     "text": [
      "Full doc text length: 104274\n",
      "# of chunks: 231\n"
     ]
    }
   ],
   "source": [
    "full_doc_text = get_pdf_data(FILE_PATH)\n",
    "print(f'Full doc text length: {len(full_doc_text)}')\n",
    "\n",
    "chunks = get_chunks(full_doc_text)\n",
    "print(f\"# of chunks: {len(chunks)}\")"
   ]
  },
  {
   "cell_type": "code",
   "execution_count": 9,
   "metadata": {},
   "outputs": [
    {
     "data": {
      "application/vnd.jupyter.widget-view+json": {
       "model_id": "ad97b5c56f2149279437d234828df292",
       "version_major": 2,
       "version_minor": 0
      },
      "text/plain": [
       "Batches:   0%|          | 0/8 [00:00<?, ?it/s]"
      ]
     },
     "metadata": {},
     "output_type": "display_data"
    }
   ],
   "source": [
    "# generate embeddings for chunks and question\n",
    "\n",
    "chunk_embeddings = bi_encoder.encode(chunks, show_progress_bar=True)\n",
    "question_embedding = bi_encoder.encode(query, convert_to_tensor=True)"
   ]
  },
  {
   "cell_type": "markdown",
   "metadata": {},
   "source": [
    "# Semantic Search"
   ]
  },
  {
   "cell_type": "code",
   "execution_count": 10,
   "metadata": {},
   "outputs": [
    {
     "data": {
      "text/plain": [
       "[{'corpus_id': 78, 'score': 0.43814271688461304},\n",
       " {'corpus_id': 80, 'score': 0.4013247787952423},\n",
       " {'corpus_id': 17, 'score': 0.33926135301589966},\n",
       " {'corpus_id': 26, 'score': 0.3355519771575928},\n",
       " {'corpus_id': 44, 'score': 0.3328952193260193},\n",
       " {'corpus_id': 77, 'score': 0.32449427247047424},\n",
       " {'corpus_id': 79, 'score': 0.31207209825515747},\n",
       " {'corpus_id': 20, 'score': 0.3084617257118225},\n",
       " {'corpus_id': 41, 'score': 0.30409711599349976},\n",
       " {'corpus_id': 81, 'score': 0.3027154803276062},\n",
       " {'corpus_id': 209, 'score': 0.2986343502998352},\n",
       " {'corpus_id': 24, 'score': 0.2921697497367859},\n",
       " {'corpus_id': 76, 'score': 0.2882997691631317},\n",
       " {'corpus_id': 167, 'score': 0.2743922472000122},\n",
       " {'corpus_id': 103, 'score': 0.2579214572906494},\n",
       " {'corpus_id': 176, 'score': 0.2569130063056946},\n",
       " {'corpus_id': 66, 'score': 0.25000083446502686},\n",
       " {'corpus_id': 180, 'score': 0.2442205250263214},\n",
       " {'corpus_id': 137, 'score': 0.24386337399482727},\n",
       " {'corpus_id': 181, 'score': 0.236028790473938},\n",
       " {'corpus_id': 177, 'score': 0.23328322172164917},\n",
       " {'corpus_id': 43, 'score': 0.22672027349472046},\n",
       " {'corpus_id': 191, 'score': 0.22249451279640198},\n",
       " {'corpus_id': 59, 'score': 0.22208252549171448},\n",
       " {'corpus_id': 7, 'score': 0.2176242172718048},\n",
       " {'corpus_id': 207, 'score': 0.2125355452299118},\n",
       " {'corpus_id': 179, 'score': 0.21114122867584229},\n",
       " {'corpus_id': 204, 'score': 0.2089819312095642},\n",
       " {'corpus_id': 195, 'score': 0.2089678943157196},\n",
       " {'corpus_id': 221, 'score': 0.20889393985271454},\n",
       " {'corpus_id': 206, 'score': 0.20873743295669556},\n",
       " {'corpus_id': 217, 'score': 0.207622691988945}]"
      ]
     },
     "execution_count": 10,
     "metadata": {},
     "output_type": "execute_result"
    }
   ],
   "source": [
    "search_results = util.semantic_search(question_embedding, chunk_embeddings, top_k=top_k)\n",
    "search_results = search_results[0] # get the search score for the first query\n",
    "search_results"
   ]
  },
  {
   "cell_type": "code",
   "execution_count": 12,
   "metadata": {},
   "outputs": [
    {
     "data": {
      "text/plain": [
       "32"
      ]
     },
     "execution_count": 12,
     "metadata": {},
     "output_type": "execute_result"
    }
   ],
   "source": [
    "len(search_results)"
   ]
  },
  {
   "cell_type": "markdown",
   "metadata": {},
   "source": [
    "# Semantic Reranking"
   ]
  },
  {
   "cell_type": "code",
   "execution_count": 13,
   "metadata": {},
   "outputs": [],
   "source": [
    "cross_input = [[query, chunks[search_result['corpus_id']]] for search_result in search_results]\n",
    "cross_scores = cross_encoder.predict(cross_input)"
   ]
  },
  {
   "cell_type": "code",
   "execution_count": 18,
   "metadata": {},
   "outputs": [
    {
     "data": {
      "text/plain": [
       "[['What is Atma?',\n",
       "  ' Every-\\nthing, including thoughts, is an object of the Ātmā, the Awareness. The\\nĀtmā is not an object for me to be thought of, or to be experienced. It\\nis the very “I”. Thus, to knock off all expectations and struggles and\\nto abide as the Ātmā with the knowledge that “I am the Ātmā” is true\\nmeditation.)\\nThus, constantly abiding in the Ātmā , the meditator comes to en-\\njoy permanent peace which culminates in the attainment of liberation\\n(videhamukti) (15)'],\n",
       " ['What is Atma?',\n",
       "  ' Once this is removed, the inner ānanda becomes evident.\\nThus, this is more a dissociation from sorrow rather than association\\n(23). (This alone is known as jīvanmukti.) Seeing the Ātmā in all be-\\nings, and all beings in the Ātmā, he gets estabilshed in the vision of\\nequality (29). This vision of the Ātmā alone is the vision of the Lord,\\nbecause the Ātmā is not different from the Lord. Thus the meditator\\nis ever established in the Lord inspite of his activities (30, 31)'],\n",
       " ['What is Atma?',\n",
       "  ' From the stand point of true nature of Ātmā (ādhyātmika-dṛśṭi),\\nBhīṣma and others are immortal. Ātmā is never subject to changes\\n3in\\nspite of the changes of the body. It is neither a doer nor an en-\\njoyer. Hence, neither is Arjuna a slayer nor is Bhīṣma slain. So,\\nwhy should he resist to fight? (12 to 25). Even if the Ātmā is\\nimpermanent, Arjuna should not lament. Whatever appears will\\nhave to disappear and whatever disappears will appear. Hence,\\none should learn to accept the change'],\n",
       " ['What is Atma?',\n",
       "  ' He is independent of the\\nworld to be happy. Naturally, he is free from attachment, hatred, de-\\nsire, anger, fear, elation, depression etc.(56, 57). Though living in the\\nsame world, he enjoys a freedom and contentment which is unknown\\nto others. Thus, if the ignorant man can be said to be in darkness with\\nregards to the Ātmā , the wise man is in broad daylight of the Ātmā\\n5(69).\\nThe best comparison for the wise man’s mind is the ocean'],\n",
       " ['What is Atma?',\n",
       "  ' It is the\\nsame ancient vedic wisdom which is being revived by Lord Kṛṣṇa\\nthrough Arjuna in the form of the Gītā because it had declined by that\\ntime (2, 3).\\nNow, Arjuna wonders how Kṛṣṇa, who is his contemporary, can\\nbe the initiator of the ancient vedic wisdom (4). As an answer to this\\nquestion, Kṛṣṇa introduces the topic of avatāra (5 to 8). [We are born\\nbecause of our own karma (vyaṣṭi-karma) as well as the total karma of\\nthe world ( samaṣṭi-karma)'],\n",
       " ['What is Atma?',\n",
       "  ' Having given up all desires and having restrained the senses\\nthrough the mind, one should gradually bring back the mind with the\\nhelp of the discriminative intellect, step by step. Once the mind is made\\nto abide in the Ātmā, there should be no other thought (25). Though the\\nmind may get distracted, one has to bring it back from the respective\\nfields to one’s own Ātmā (26).\\n(All this presupposes a clear understanding of Vedānta'],\n",
       " ['What is Atma?',\n",
       "  ' He enjoys an ever-abiding mind which is com-\\npletely satisfied with the discovery of the Ātmā (20). Since his ānanda\\nis not sensual, it transcends all the limits. Having discovered this inner\\nfullness, he never loses sight of his true nature (21, 27, 28). Neither\\ndoes he consider any other gain to be superior, nor is he shaken by\\neven the greatest loss (22). This infinite ānanda will never be lost be-\\ncause this was never gained. It was veiled by the false notion that “I am\\nsorrowful”'],\n",
       " ['What is Atma?',\n",
       "  '\\nShouldn’t Arjuna fight to protect his reputation?\\nWith these arguments, Lord persuades Arjuna to fight (37, 38)\\nand concludes the first part of his teaching. He calls this sāṅkhya-yoga\\n(39). [In fact, the first argument which deals with the nature of the\\nĀtmā and the body (ātma-anātma-viveka) alone is the sāṅkhya-yoga.]\\nHereafter, the Lord enters into buddhi-yoga (karma-yoga)'],\n",
       " ['What is Atma?',\n",
       "  ')\\nOnce kāma becomes weak, one can discover the Ātmā , which is\\nbeyond the senses, the mind, and the intellect and thus destroy kāma\\nfor good (42, 43).\\nThus the third chapter discusses the following topics mainly:\\n1. Introduction . . . . . . . . . . . . . . . . . . . . . . . . . . . . . . . . . . . . . . . . .1 to 7\\n2.Karmayoga . . . . . . . . . . . . . . . . . . . . . . . . . . . . . . . 8 to 20 (1st line)\\n3. The role of a wise person . . . . . . . . . . . . . . . . . 20 (2nd line) to 29\\n4'],\n",
       " ['What is Atma?',\n",
       "  ' Being\\n17established\\nin the Ātmā , he looks at all bodies including his body with\\nthe same attitude of detachment. Hence he is free from selfishness and\\nis spontaneously established in dharma. He is a saint (32).\\nDhyāna-pratibandha-parihārau\\nNow, Arjuna puts a question regarding an obstacle to meditation. It is\\nthe problem of mental restlessness or extrovertedness. Because of this,\\none finds it difficult to meditate and assimilate the Self-knowledge'],\n",
       " ['What is Atma?',\n",
       "  '\\n(21)That\\nwhich is given with-\\nout respect to an undeserv-ing person at an impropertime and place. (22)\\n47Kṛṣṇa divides tapas\\non the basis of the guṇās and also on the basis of\\nthe instrument as given below:\\nSattvic Rajasic T\\namasic\\nThat\\nwhich is prac-\\nticed with faith and\\nwithout expecting\\nany result. (17)That\\nwhich is prac-\\nticed for the sake\\nof show, name and\\nfame. (18)That\\nwhich is practiced\\nwith false notions and\\nbodily torture for harm-\\ning others'],\n",
       " ['What is Atma?',\n",
       "  ' When, through\\nSelf-knowledge, one gets established in the peaceful Ātmā, he attains\\nliberation (53).\\nNow, Arjuna becomes curious to know the characteristics of a\\nperson who is firmly established in Self-knowledge ( sthitaprajña) (54).\\nKṛṣṇa answers Arjuna’s question and gives the means of stabilizing the\\nknowledge.\\nKnowledge cannot be fruitful unless it is stabilized and assimi-\\nlated. For this, Kṛṣṇa talks about two important sādhana s (58 to 68)'],\n",
       " ['What is Atma?',\n",
       "  ' Next, the meditator should withdraw the mind and sense organs\\nfrom all other activities. The breathing also should be maintained even\\n16(refer\\nV-27). With a calm, withdrawn, undisturbed, tension-free, and\\none-pointed mind, the meditator should meditate upon the Lord, the\\nĀtmā (12, 14).\\nDhyāna-svarūpam andPhalam\\nMeditation is nothing but abidance of the withdrawn mind in the Ātmā\\n(18)'],\n",
       " ['What is Atma?',\n",
       "  '\\nThough undivided, it appears divided and it is the creator, sustainer,\\nand destroyer of all (17). It is the light of consciousness which re-\\nsides in the heart of all (18). Being subtle, it cannot be known in its\\npure form. Yet, it shines in the body (as Awareness-Existence) and in\\nthe world (as Existence). One has to recognize it as pure Awareness-\\nExistence by distinguishing it from the body and the world (14, 15).\\n(This method of teaching is called adhyāropa-apavāda-prakriyā i.e'],\n",
       " ['What is Atma?',\n",
       "  ' Karma refers to all actions which are the cause for the birth of\\nall beings (3).\\nAdhibhūta is the entire perishable, inert universe. Adhidaiva is\\ntheHiraṇyagarbha who blesses all the organs of of all beings. Adhiya-\\njñais the Lord as the presiding deity of all the actions of the individ-\\nual (4).\\nFrom the 5th verse till the end of this chapter, Lord Kṛṣṇa elab-\\norately answers the last question i.e., how to remember the Lord even\\nat the time of death'],\n",
       " ['What is Atma?',\n",
       "  ' (It is also\\npossible to change the proportions for which alone all the preparatory\\nsādhanās are prescribed) (10).\\nIn the 19th and 20th verses, Kṛṣṇa teaches the means of tran-\\nscending the guṇas. The Lord points out that the transcendence is in\\nthe form of knowledge alone. The Self ( puruṣa) happens to be already\\nbeyond the guṇas (guṇātīta). It is the body (prakṛti) which has guṇas,\\ndoership, etc. Because of identification with the body alone, the Self\\n(puruṣa ) seems to have guṇas'],\n",
       " ['What is Atma?',\n",
       "  ' Though prārabdha brings favorable and unfavorable situations,\\nthese spontaneous, delusion-free wisemen are neither elated nor de-\\npressed (20). Detached from the world and established in Brahman,\\nthey enjoy infinite ānanda (21).\\nIn the next two verses, the qualification of vairāgyam is stressed.\\nUnless a seeker gets detached from sensual pleasures, he cannot at-\\ntain infinite ānanda'],\n",
       " ['What is Atma?',\n",
       "  ' A bhakta becomes fit to attain\\nBrahman’s nature ( guṇātītatvam) which is immortality and absolute\\nānanda (26, 27).\\n39No'],\n",
       " ['What is Atma?',\n",
       "  '\\n29Chapter\\n11\\nViśvarūpadarśana-yoga\\n(In the previous four chapters, Kṛṣṇa established that the entire uni-\\nverse is a manifestation of God and, therefore, any glory in the cre-\\nation belongs to God alone. Now, in this chapter, Arjuna appreciates\\nthis teaching and sees the universe as the very Lord'],\n",
       " ['What is Atma?',\n",
       "  ' T\\nopic Sattva Rajas Tamas\\n1 Lakṣaṇam\\n(Definition)Prakāśātmakam(Of\\nthe nature of bright-\\nness) (6)Rāgātmakam(Of\\nthe nature of delu-\\nsion) (7)Mohanātamakam(Of\\nthe nature of attach-\\nment) (8)\\n2 Bandhanaprakāra\\n(Mode\\nof bind-\\ning)Jñānasaṅga(By\\ncausing attachment\\nto knowledge) (6, 9)Karmasaṅga(By\\ncausing attachment\\nto activity) (7, 9)Pramādasaṅga(By\\ncausing attachment\\nto indifference) (8, 9)\\n3 Liṅgam(Sign\\nof predomi-\\nnance)Jñānavṛddhi(Increase\\nof knowl-\\nedge) (11)Karmavṛddhi(Increase\\nof activity)\\n(1'],\n",
       " ['What is Atma?',\n",
       "  ' Hence the only solution is to discrim-\\ninate and own up the guṇātīta puruṣa as oneself (19). Through this\\nknowledge, one discovers oneself to be free from birth, death, etc.This\\nis liberation (20).\\nArjuna asksKṛṣṇa about the characteristics of a guṇātīta and the\\nsādhanā to achieve this (21).\\nFrom the 22nd to the 25th verse, Kṛṣṇa answers the first ques-\\ntion. Guṇatīta is one who is detached from prakṛti. He does not have\\nI-notion in his body or my-notion in the world'],\n",
       " ['What is Atma?',\n",
       "  ' It has been initiated by the Lord in the beginning\\nof the creation itself through the karma-kāṇḍa andjñāna-kāṇḍa of the\\nVedas. Thus, this is an ancient wisdom which has stood the test of\\ntime.)\\nKṛṣṇa begins the fourth chapter by referring to the above aspect\\nso that Arjuna will have reverence for Gītā. The Lord points out that\\nHe initiated the lineage of Vivasvān (Lord Sun), Manu, Ikṣvāku, and\\n9others\\nin the beginning of the creation (through the Vedas)'],\n",
       " ['What is Atma?',\n",
       "  ' As the unmanifest universe (māyā), the same Brahman is called\\nakṣarapuruṣa (16). Both these puruṣas are relative. Beyond these two\\npuruṣas is the uttamapuruṣa, the absolute. Because of its superiority,\\nit is called paramātmā orpuruṣottama. It is the imperishable (attribute-\\nless)Brahman because of which everything exists (17, 18).\\nConcluding the teaching, Kṛṣṇa glorifies this knowledge as the\\nmeans of fulfillment'],\n",
       " ['What is Atma?',\n",
       "  ' At the same\\ntime, Kṛṣṇa concludes the chapter by advising Arjuna to take to action\\n(IV-42). Naturally, Arjuna is not able to reconcile Kṛṣṇa’s various\\nstatements.\\n(In fact, secluded life and active life are only two lifestyles. The\\nfirst is called āśrama-sannyāsa [sānkhya, in this chapter] and the latter\\nis called karma-yoga [yoga , in this chapter]. In both the lifestyles, one is\\nidentified with the equipments. He is a kartā, and hence a saṃsārī'],\n",
       " ['What is Atma?',\n",
       "  '\\nWhen discovers the śiṣya in one and surrenders to a guru , the ground\\nis prepared for the Gītā-teaching to take place.\\nThe entire first chapter and the first part of the second chapter are\\ndevoted to show these developments.)\\nThe problem of saṃsāra, as shown in the first chapter, can be said\\nto be the problem of attachment ( kṛpā orrāga), grief (śoka orviṣāda)\\nand delusion (moha). When one is not happy with oneself, one has to\\nseek external aids. This leads to dependence and attachment'],\n",
       " ['What is Atma?',\n",
       "  '\\n46T\\nopic Sattvic Rajasic T\\namasic\\nŚraddhā\\n(Faith)W\\norship of the gods.\\n(4)W\\norship of the yakṣas and\\nrākṣasas. (4)W\\norship of spirits and\\nghosts. (4)\\nĀhāra\\n(Food)That\\nwhich is delicious,\\nwhich gives longevity,\\nhealth, strength, and happi-\\nness.\\n(8)That\\nwhich is excessively\\nbitter, sour, salty, hot,\\npungent and which causes\\npain. (9)That\\nwhich is improperly\\ncooked, without nutrition,\\nputrid, stale, left over, and\\nimpure'],\n",
       " ['What is Atma?',\n",
       "  ' (Since a guṇātīta is invariably a wise man,\\nthis description tallies with the sthitaprajña portion of the 2nd chapter\\nas well as the parābhakta portion of the 12th chapter).\\nKṛṣṇa concludes by prescribing bhakti as the sādhanā to achieve\\nthis goal. (Thus, the Lord answers Arjuna’s second question. By the\\ngrace of the Lord one gets a guru. Through the guru, one gets the\\nknowledge which makes one guṇātīta)'],\n",
       " ['What is Atma?',\n",
       "  ' This originated from Brahmā’s mouth in\\nthe beginning of creation, and has been traditionally chanted during\\nscriptural activities like yajña, tapas and dāna. The word ‘sat’ has\\nmany meanings like existence, goodness, good action, steadfastness\\nand an action as an offering to the Lord (23 to 27). [In essence the\\nutterance of this mantra will sanctify scriptural actions and make them\\nsattvic.]\\nIn the last verse, Kṛṣṇa emphasizes the importance of śraddhā\\n(faith)'],\n",
       " ['What is Atma?',\n",
       "  ' In fact, Vedānta is\\napramāṇa (means of knowledge) only for a prepared mind.\\nIn this chapter, Kṛṣṇa divides all mental traits into two groups\\n—daivī-sampat andāsurī-sampat. All sattvic traits come under the\\nformer, while rajasic and tamasic traits come under the latter. Daivī-\\nsampat is conducive to Self-knowledge; āsurī-sampat is an obstacle\\nto spiritual pursuit (5). [Without exception, every one in this universe\\nfalls under one of these two groups'],\n",
       " ['What is Atma?',\n",
       "  '\\n(37)That\\nwhich is like nectar\\nin the beginning, like poi-son in the end, and whichis born of contact between\\nsense organs and objects.\\n(38)That\\nwhich deludes the\\nmind in the beginning and\\nin the end, and which isborn of indolence and neg-\\nligence.\\n(39)\\n51The\\nduties of the four varṇas ( brāhmaṇas, kṣatriya s,vaiśyas and\\nśūdras) are prescribed in the scriptures based on their nature (41 to 44).\\nKarmayoga is the performance of one’s own duty as an offering to the\\nLord'],\n",
       " ['What is Atma?',\n",
       "  ' Three types of tapas (based on instrument) . . . . . . . . . . .14 to 16\\n6. Three types of tapas (based on guṇa) . . . . . . . . . . . . . . . . 17 to 19\\n7. Three types of charity . . . . . . . . . . . . . . . . . . . . . . . . . . . . . .20 to 22\\n8. Significance of “om tat sat” and conclusion . . . . . . . . . . 23 to 28\\nSince Śraddhā is highlighted both in the beginning and in the\\nend, this chapter is called Śraddhātrayavibhāga-yoga '],\n",
       " ['What is Atma?',\n",
       "  ' (For details see the chart)\\nKṛṣṇa concludes this topic by pointing out that there is nothing\\nin the creation which is free from these three guṇas (40).\\nWith an intention to sum up the entire Gītā-teaching, Bhagavān\\ngives the essence of karmayoga (41 to 49) and jñānayoga (50 to 55) in\\nthe following section.\\n49T\\nopic Sattvic Rajasic T\\namasic\\n1.Sannyāsa\\n(Renunciation)Renunciation\\nof the results\\nofnityakarma s.\\n(9)Renunciation of\\nnityakarmas\\ndue to\\nfear of bodily strain']]"
      ]
     },
     "execution_count": 18,
     "metadata": {},
     "output_type": "execute_result"
    }
   ],
   "source": [
    "cross_input"
   ]
  },
  {
   "cell_type": "code",
   "execution_count": 14,
   "metadata": {},
   "outputs": [
    {
     "data": {
      "text/plain": [
       "array([  5.6001816 ,   1.7976379 ,   2.6420355 ,   0.29547724,\n",
       "        -9.827906  ,   0.09490482,  -0.41204083,  -2.3754735 ,\n",
       "         0.5349555 ,  -0.72674286, -10.571349  ,  -0.68445265,\n",
       "        -1.7891197 ,  -9.955763  ,  -9.999147  , -10.877742  ,\n",
       "       -10.745488  , -10.515318  , -10.831608  , -10.729138  ,\n",
       "       -10.622442  , -10.730914  , -10.1301    , -10.791334  ,\n",
       "       -10.705481  , -10.609955  , -10.993363  , -10.775614  ,\n",
       "        -9.522174  , -10.695619  , -10.939821  , -11.169359  ],\n",
       "      dtype=float32)"
      ]
     },
     "execution_count": 14,
     "metadata": {},
     "output_type": "execute_result"
    }
   ],
   "source": [
    "cross_scores"
   ]
  },
  {
   "cell_type": "code",
   "execution_count": 19,
   "metadata": {},
   "outputs": [],
   "source": [
    "for idx in range(len(cross_scores)):\n",
    "    search_results[idx]['cross-score'] = cross_scores[idx]"
   ]
  },
  {
   "cell_type": "code",
   "execution_count": 20,
   "metadata": {},
   "outputs": [
    {
     "data": {
      "text/plain": [
       "[{'corpus_id': 78, 'score': 0.43814271688461304, 'cross-score': 5.6001816},\n",
       " {'corpus_id': 80, 'score': 0.4013247787952423, 'cross-score': 1.7976379},\n",
       " {'corpus_id': 17, 'score': 0.33926135301589966, 'cross-score': 2.6420355},\n",
       " {'corpus_id': 26, 'score': 0.3355519771575928, 'cross-score': 0.29547724},\n",
       " {'corpus_id': 44, 'score': 0.3328952193260193, 'cross-score': -9.827906},\n",
       " {'corpus_id': 77, 'score': 0.32449427247047424, 'cross-score': 0.09490482},\n",
       " {'corpus_id': 79, 'score': 0.31207209825515747, 'cross-score': -0.41204083},\n",
       " {'corpus_id': 20, 'score': 0.3084617257118225, 'cross-score': -2.3754735},\n",
       " {'corpus_id': 41, 'score': 0.30409711599349976, 'cross-score': 0.5349555},\n",
       " {'corpus_id': 81, 'score': 0.3027154803276062, 'cross-score': -0.72674286},\n",
       " {'corpus_id': 209, 'score': 0.2986343502998352, 'cross-score': -10.571349},\n",
       " {'corpus_id': 24, 'score': 0.2921697497367859, 'cross-score': -0.68445265},\n",
       " {'corpus_id': 76, 'score': 0.2882997691631317, 'cross-score': -1.7891197},\n",
       " {'corpus_id': 167, 'score': 0.2743922472000122, 'cross-score': -9.955763},\n",
       " {'corpus_id': 103, 'score': 0.2579214572906494, 'cross-score': -9.999147},\n",
       " {'corpus_id': 176, 'score': 0.2569130063056946, 'cross-score': -10.877742},\n",
       " {'corpus_id': 66, 'score': 0.25000083446502686, 'cross-score': -10.745488},\n",
       " {'corpus_id': 180, 'score': 0.2442205250263214, 'cross-score': -10.515318},\n",
       " {'corpus_id': 137, 'score': 0.24386337399482727, 'cross-score': -10.831608},\n",
       " {'corpus_id': 181, 'score': 0.236028790473938, 'cross-score': -10.729138},\n",
       " {'corpus_id': 177, 'score': 0.23328322172164917, 'cross-score': -10.622442},\n",
       " {'corpus_id': 43, 'score': 0.22672027349472046, 'cross-score': -10.730914},\n",
       " {'corpus_id': 191, 'score': 0.22249451279640198, 'cross-score': -10.1301},\n",
       " {'corpus_id': 59, 'score': 0.22208252549171448, 'cross-score': -10.791334},\n",
       " {'corpus_id': 7, 'score': 0.2176242172718048, 'cross-score': -10.705481},\n",
       " {'corpus_id': 207, 'score': 0.2125355452299118, 'cross-score': -10.609955},\n",
       " {'corpus_id': 179, 'score': 0.21114122867584229, 'cross-score': -10.993363},\n",
       " {'corpus_id': 204, 'score': 0.2089819312095642, 'cross-score': -10.775614},\n",
       " {'corpus_id': 195, 'score': 0.2089678943157196, 'cross-score': -9.522174},\n",
       " {'corpus_id': 221, 'score': 0.20889393985271454, 'cross-score': -10.695619},\n",
       " {'corpus_id': 206, 'score': 0.20873743295669556, 'cross-score': -10.939821},\n",
       " {'corpus_id': 217, 'score': 0.207622691988945, 'cross-score': -11.169359}]"
      ]
     },
     "execution_count": 20,
     "metadata": {},
     "output_type": "execute_result"
    }
   ],
   "source": [
    "search_results"
   ]
  },
  {
   "cell_type": "code",
   "execution_count": 27,
   "metadata": {},
   "outputs": [
    {
     "name": "stdout",
     "output_type": "stream",
     "text": [
      "Top-3 Bi-Encoder Retrieval hits\n",
      "0.43814271688461304 -  Every- thing, including thoughts, is an object of the Ātmā, the Awareness. The Ātmā is not an object for me to be thought of, or to be experienced. It is the very “I”. Thus, to knock off all expectations and struggles and to abide as the Ātmā with the knowledge that “I am the Ātmā” is true meditation.) Thus, constantly abiding in the Ātmā , the meditator comes to en- joy permanent peace which culminates in the attainment of liberation (videhamukti) (15)\n",
      "0.4013247787952423 -  Once this is removed, the inner ānanda becomes evident. Thus, this is more a dissociation from sorrow rather than association (23). (This alone is known as jīvanmukti.) Seeing the Ātmā in all be- ings, and all beings in the Ātmā, he gets estabilshed in the vision of equality (29). This vision of the Ātmā alone is the vision of the Lord, because the Ātmā is not different from the Lord. Thus the meditator is ever established in the Lord inspite of his activities (30, 31)\n",
      "0.33926135301589966 -  From the stand point of true nature of Ātmā (ādhyātmika-dṛśṭi), Bhīṣma and others are immortal. Ātmā is never subject to changes 3in spite of the changes of the body. It is neither a doer nor an en- joyer. Hence, neither is Arjuna a slayer nor is Bhīṣma slain. So, why should he resist to fight? (12 to 25). Even if the Ātmā is impermanent, Arjuna should not lament. Whatever appears will have to disappear and whatever disappears will appear. Hence, one should learn to accept the change\n"
     ]
    }
   ],
   "source": [
    "print(\"Top-3 Bi-Encoder Retrieval hits\")\n",
    "search_results = sorted(search_results, key=lambda x: x['score'], reverse=True)\n",
    "newline = '\\n'\n",
    "for search_result in search_results[:3]:\n",
    "    print(f\"{search_result['score']} - {chunks[search_result['corpus_id']].replace( newline,' ')}\") #.replace(linesep, ' ')}\")"
   ]
  },
  {
   "cell_type": "code",
   "execution_count": 28,
   "metadata": {},
   "outputs": [
    {
     "name": "stdout",
     "output_type": "stream",
     "text": [
      "Top-3 Cross-Encoder Re-ranking hits\n",
      "5.600181579589844 -  Every- thing, including thoughts, is an object of the Ātmā, the Awareness. The Ātmā is not an object for me to be thought of, or to be experienced. It is the very “I”. Thus, to knock off all expectations and struggles and to abide as the Ātmā with the knowledge that “I am the Ātmā” is true meditation.) Thus, constantly abiding in the Ātmā , the meditator comes to en- joy permanent peace which culminates in the attainment of liberation (videhamukti) (15)\n",
      "2.642035484313965 -  From the stand point of true nature of Ātmā (ādhyātmika-dṛśṭi), Bhīṣma and others are immortal. Ātmā is never subject to changes 3in spite of the changes of the body. It is neither a doer nor an en- joyer. Hence, neither is Arjuna a slayer nor is Bhīṣma slain. So, why should he resist to fight? (12 to 25). Even if the Ātmā is impermanent, Arjuna should not lament. Whatever appears will have to disappear and whatever disappears will appear. Hence, one should learn to accept the change\n",
      "1.797637939453125 -  Once this is removed, the inner ānanda becomes evident. Thus, this is more a dissociation from sorrow rather than association (23). (This alone is known as jīvanmukti.) Seeing the Ātmā in all be- ings, and all beings in the Ātmā, he gets estabilshed in the vision of equality (29). This vision of the Ātmā alone is the vision of the Lord, because the Ātmā is not different from the Lord. Thus the meditator is ever established in the Lord inspite of his activities (30, 31)\n"
     ]
    }
   ],
   "source": [
    "print(\"Top-3 Cross-Encoder Re-ranking hits\")\n",
    "search_results = sorted(search_results, key=lambda x: x['cross-score'], reverse=True)\n",
    "newline = '\\n'\n",
    "for search_result in search_results[:3]:\n",
    "    print(f\"{search_result['cross-score']} - {chunks[search_result['corpus_id']].replace( newline,' ')}\")"
   ]
  },
  {
   "cell_type": "code",
   "execution_count": null,
   "metadata": {},
   "outputs": [],
   "source": []
  }
 ],
 "metadata": {
  "kernelspec": {
   "display_name": "base",
   "language": "python",
   "name": "python3"
  },
  "language_info": {
   "codemirror_mode": {
    "name": "ipython",
    "version": 3
   },
   "file_extension": ".py",
   "mimetype": "text/x-python",
   "name": "python",
   "nbconvert_exporter": "python",
   "pygments_lexer": "ipython3",
   "version": "3.11.5"
  }
 },
 "nbformat": 4,
 "nbformat_minor": 2
}
